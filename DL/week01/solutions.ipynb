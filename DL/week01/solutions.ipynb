{
 "cells": [
  {
   "cell_type": "code",
   "execution_count": 14,
   "id": "initial_id",
   "metadata": {
    "ExecuteTime": {
     "end_time": "2025-01-06T10:30:31.390075Z",
     "start_time": "2025-01-06T10:30:30.588683Z"
    },
    "collapsed": true
   },
   "outputs": [],
   "source": [
    "import torch\n",
    "import numpy as np"
   ]
  },
  {
   "cell_type": "markdown",
   "id": "7f22244c07e09f06",
   "metadata": {},
   "source": [
    "### Question 1"
   ]
  },
  {
   "cell_type": "code",
   "execution_count": 2,
   "id": "254b55c1b19cfe65",
   "metadata": {
    "ExecuteTime": {
     "end_time": "2025-01-06T10:30:31.401803Z",
     "start_time": "2025-01-06T10:30:31.391004Z"
    }
   },
   "outputs": [
    {
     "name": "stdout",
     "output_type": "stream",
     "text": [
      "tensor([1, 2, 3, 4])\n",
      "tensor([[[1, 2],\n",
      "         [3, 4]],\n",
      "\n",
      "        [[1, 2],\n",
      "         [3, 4]]])\n"
     ]
    }
   ],
   "source": [
    "T = torch.tensor([[1, 2], [3, 4]])\n",
    "\n",
    "print(T.reshape(2 * 2))\n",
    "print(torch.stack([T, T]))"
   ]
  },
  {
   "cell_type": "code",
   "execution_count": 3,
   "id": "bd834f5bb967c544",
   "metadata": {
    "ExecuteTime": {
     "end_time": "2025-01-06T10:31:19.942909Z",
     "start_time": "2025-01-06T10:31:19.937794Z"
    }
   },
   "outputs": [
    {
     "name": "stdout",
     "output_type": "stream",
     "text": [
      "tensor([[[0., 0.]],\n",
      "\n",
      "        [[0., 0.]]])\n",
      "tensor([[0., 0.],\n",
      "        [0., 0.]])\n",
      "tensor([[[[0., 0.]],\n",
      "\n",
      "         [[0., 0.]]]])\n"
     ]
    }
   ],
   "source": [
    "x = torch.zeros(2, 1, 2)\n",
    "\n",
    "print(x)\n",
    "print(x.squeeze()) # remove dimensions with 1 element\n",
    "print(x.unsqueeze(0)) # wrap dimension with parentheses"
   ]
  },
  {
   "cell_type": "markdown",
   "id": "beb79643e2e7866e",
   "metadata": {},
   "source": [
    "### Question 2"
   ]
  },
  {
   "cell_type": "code",
   "execution_count": 4,
   "id": "a9f84f5e35cc19d7",
   "metadata": {
    "ExecuteTime": {
     "end_time": "2025-01-06T10:33:09.530735Z",
     "start_time": "2025-01-06T10:33:09.523239Z"
    }
   },
   "outputs": [
    {
     "data": {
      "text/plain": [
       "tensor([[1, 3],\n",
       "        [2, 4]])"
      ]
     },
     "execution_count": 4,
     "metadata": {},
     "output_type": "execute_result"
    }
   ],
   "source": [
    "torch.permute(T, (1, 0)) # (tensor, permutation of dimensions)"
   ]
  },
  {
   "cell_type": "markdown",
   "id": "93eb3a3d8ccae35c",
   "metadata": {},
   "source": [
    "### Question 3"
   ]
  },
  {
   "cell_type": "code",
   "execution_count": 13,
   "id": "267c6322211c5e4f",
   "metadata": {},
   "outputs": [
    {
     "name": "stdout",
     "output_type": "stream",
     "text": [
      "tensor(2)\n",
      "tensor([[1, 2],\n",
      "        [3, 4]])\n"
     ]
    }
   ],
   "source": [
    "print(T[0][1]) # same as T[0, 1]\n",
    "print(T[[0, 1]])"
   ]
  },
  {
   "cell_type": "markdown",
   "id": "f06b29bb",
   "metadata": {},
   "source": [
    "### Question 4"
   ]
  },
  {
   "cell_type": "code",
   "execution_count": 16,
   "id": "cd71fb40",
   "metadata": {},
   "outputs": [
    {
     "data": {
      "text/plain": [
       "array([0., 0.])"
      ]
     },
     "execution_count": 16,
     "metadata": {},
     "output_type": "execute_result"
    }
   ],
   "source": [
    "T = torch.from_numpy(np.zeros(2))\n",
    "T.numpy()"
   ]
  },
  {
   "cell_type": "markdown",
   "id": "527c1773",
   "metadata": {},
   "source": [
    "### Question 5"
   ]
  },
  {
   "cell_type": "code",
   "execution_count": 18,
   "id": "20b0d1fd",
   "metadata": {},
   "outputs": [
    {
     "data": {
      "text/plain": [
       "tensor([[2, 4, 7, 7, 3, 9, 2],\n",
       "        [3, 2, 6, 5, 5, 9, 2],\n",
       "        [3, 6, 5, 6, 6, 5, 2],\n",
       "        [2, 7, 4, 1, 4, 3, 7],\n",
       "        [8, 8, 8, 3, 4, 7, 5],\n",
       "        [6, 3, 7, 1, 8, 9, 3],\n",
       "        [5, 3, 6, 4, 1, 7, 4]])"
      ]
     },
     "execution_count": 18,
     "metadata": {},
     "output_type": "execute_result"
    }
   ],
   "source": [
    "torch.randint(1, 10, (7, 7))"
   ]
  },
  {
   "cell_type": "markdown",
   "id": "2e943e3e",
   "metadata": {},
   "source": [
    "### Question 6"
   ]
  },
  {
   "cell_type": "code",
   "execution_count": 35,
   "id": "b5af5f20",
   "metadata": {},
   "outputs": [
    {
     "data": {
      "text/plain": [
       "tensor([[181],\n",
       "        [198],\n",
       "        [244],\n",
       "        [168],\n",
       "        [213],\n",
       "        [191],\n",
       "        [225]])"
      ]
     },
     "execution_count": 35,
     "metadata": {},
     "output_type": "execute_result"
    }
   ],
   "source": [
    "A = torch.randint(1, 10, (7, 7))\n",
    "B = torch.randint(1, 10, (1, 7))\n",
    "\n",
    "A @ B.T"
   ]
  },
  {
   "cell_type": "markdown",
   "id": "24ba3223",
   "metadata": {},
   "source": [
    "### Question 7"
   ]
  },
  {
   "cell_type": "code",
   "execution_count": 36,
   "id": "a2e89bce",
   "metadata": {},
   "outputs": [],
   "source": [
    "A = torch.rand((2, 3))\n",
    "B = torch.rand((2, 3))\n",
    "\n",
    "device = \"cuda\" if torch.cuda.is_available() else \"cpu\"\n",
    "\n",
    "A = A.to(device)\n",
    "B = B.to(device)"
   ]
  },
  {
   "cell_type": "markdown",
   "id": "9f8508d6",
   "metadata": {},
   "source": [
    "### Question 8"
   ]
  },
  {
   "cell_type": "code",
   "execution_count": null,
   "id": "0d9388b6",
   "metadata": {},
   "outputs": [
    {
     "data": {
      "text/plain": [
       "tensor([[223],\n",
       "        [135],\n",
       "        [180],\n",
       "        [239],\n",
       "        [164],\n",
       "        [168],\n",
       "        [140]])"
      ]
     },
     "execution_count": 37,
     "metadata": {},
     "output_type": "execute_result"
    }
   ],
   "source": [
    "A = torch.randint(1, 10, (7, 7))\n",
    "B = torch.randint(1, 10, (1, 7))\n",
    "\n",
    "A @ B.transpose(0, 1)"
   ]
  },
  {
   "cell_type": "markdown",
   "id": "b48d3455",
   "metadata": {},
   "source": [
    "### Question 9"
   ]
  },
  {
   "cell_type": "code",
   "execution_count": 41,
   "id": "45a2a645",
   "metadata": {},
   "outputs": [
    {
     "name": "stdout",
     "output_type": "stream",
     "text": [
      "tensor(1) tensor(9)\n"
     ]
    }
   ],
   "source": [
    "print(A.min(), A.max())"
   ]
  },
  {
   "cell_type": "markdown",
   "id": "f2b667db",
   "metadata": {},
   "source": [
    "### Question 10"
   ]
  },
  {
   "cell_type": "code",
   "execution_count": 42,
   "id": "b97a2235",
   "metadata": {},
   "outputs": [
    {
     "name": "stdout",
     "output_type": "stream",
     "text": [
      "tensor(1) tensor(32)\n"
     ]
    }
   ],
   "source": [
    "print(A.argmax(), A.argmin())"
   ]
  },
  {
   "cell_type": "markdown",
   "id": "b1747499",
   "metadata": {},
   "source": [
    "### Question 11"
   ]
  },
  {
   "cell_type": "code",
   "execution_count": 45,
   "id": "3d5686fd",
   "metadata": {},
   "outputs": [
    {
     "name": "stdout",
     "output_type": "stream",
     "text": [
      "tensor([[[[0.5349, 0.1988, 0.6592, 0.6569, 0.2328, 0.4251, 0.2071, 0.6297,\n",
      "           0.3653, 0.8513]]]]) torch.Size([1, 1, 1, 10])\n",
      "tensor([0.5349, 0.1988, 0.6592, 0.6569, 0.2328, 0.4251, 0.2071, 0.6297, 0.3653,\n",
      "        0.8513]) torch.Size([10])\n"
     ]
    }
   ],
   "source": [
    "torch.manual_seed(7)\n",
    "\n",
    "shape = (1, 1, 1, 10)\n",
    "T1 = torch.rand(shape)\n",
    "T2 = T1.squeeze()\n",
    "\n",
    "print(T1, T1.shape)\n",
    "print(T2, T2.shape)"
   ]
  }
 ],
 "metadata": {
  "kernelspec": {
   "display_name": ".venv",
   "language": "python",
   "name": "python3"
  },
  "language_info": {
   "codemirror_mode": {
    "name": "ipython",
    "version": 3
   },
   "file_extension": ".py",
   "mimetype": "text/x-python",
   "name": "python",
   "nbconvert_exporter": "python",
   "pygments_lexer": "ipython3",
   "version": "3.12.5"
  }
 },
 "nbformat": 4,
 "nbformat_minor": 5
}
