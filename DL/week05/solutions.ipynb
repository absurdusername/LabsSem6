{
 "cells": [
  {
   "cell_type": "code",
   "execution_count": null,
   "metadata": {},
   "outputs": [],
   "source": [
    "import torch  \n",
    "import torch.nn.functional as F"
   ]
  },
  {
   "cell_type": "markdown",
   "metadata": {},
   "source": [
    "`torch.nn.functional.conv2d(img, kernel)`\n",
    "is different from\n",
    "`nn.Convd(in_channels, out_channels, kernel_size)`"
   ]
  },
  {
   "cell_type": "code",
   "execution_count": null,
   "metadata": {},
   "outputs": [
    {
     "name": "stdout",
     "output_type": "stream",
     "text": [
      "outimage= torch.Size([3, 4, 4])\n"
     ]
    }
   ],
   "source": [
    "image = torch.rand(1, 6, 6) # count, image_height, image_width\n",
    "kernel = torch.ones(3, 1, 3, 3) # channels, 1, kernel_height, kernel_width\n",
    "\n",
    "outimage = F.conv2d(image, kernel)\n",
    "print(\"outimage=\", outimage.shape)"
   ]
  },
  {
   "cell_type": "code",
   "execution_count": 45,
   "metadata": {},
   "outputs": [],
   "source": [
    "import torch.nn as nn\n",
    "\n",
    "class Net(nn.Module):\n",
    "    def __init__(self):\n",
    "        super().__init__()\n",
    "        self.convolution_layers = nn.Sequential(\n",
    "            nn.Conv2d(1, 32, 3), # notice the signature\n",
    "            nn.ReLU(),  \n",
    "            nn.Conv2d(32, 64, 3),\n",
    "            nn.ReLU(),\n",
    "            nn.MaxPool2d(2),\n",
    "            nn.Dropout(0.5)\n",
    "        )\n",
    "\n",
    "        self.classification_layers = nn.Sequential(\n",
    "            nn.Flatten(),\n",
    "            nn.Linear(12 * 12 * 64, 10),\n",
    "            nn.Sigmoid(),\n",
    "            nn.Linear(10, 10),\n",
    "            nn.Sigmoid()\n",
    "        )\n",
    "    \n",
    "    def forward(self, x):\n",
    "        features = self.convolution_layers(x)\n",
    "        return self.classification_layers(features)"
   ]
  },
  {
   "cell_type": "markdown",
   "metadata": {},
   "source": [
    "Create the dataloaders"
   ]
  },
  {
   "cell_type": "code",
   "execution_count": 46,
   "metadata": {},
   "outputs": [],
   "source": [
    "import torchvision.datasets as datasets\n",
    "from torchvision.transforms import ToTensor\n",
    "from torch.utils.data import DataLoader\n",
    "\n",
    "train_data = datasets.MNIST(root=\"data\", train=True, download=True, transform=ToTensor())\n",
    "test_data = datasets.MNIST(root=\"data\", train=False, download=True, transform=ToTensor())\n",
    "\n",
    "train_loader = DataLoader(train_data, batch_size=64)\n",
    "test_loader = DataLoader(test_data, batch_size=64)"
   ]
  },
  {
   "cell_type": "markdown",
   "metadata": {},
   "source": [
    "Define helper methods for training and testing"
   ]
  },
  {
   "cell_type": "code",
   "execution_count": 47,
   "metadata": {},
   "outputs": [],
   "source": [
    "device = torch.accelerator.current_accelerator() if torch.accelerator.is_available() else \"cpu\"\n",
    "\n",
    "def train(dataloader, model, loss_fn, optimizer):\n",
    "    model.train()\n",
    "\n",
    "    for X, y in dataloader:\n",
    "        X, y = X.to(device), y.to(device)\n",
    "\n",
    "        pred = model(X)\n",
    "        loss = loss_fn(pred, y)\n",
    "        \n",
    "        loss.backward()\n",
    "        optimizer.step()\n",
    "        optimizer.zero_grad()\n",
    "\n",
    "\n",
    "def test(dataloader, model):\n",
    "    model.eval()\n",
    "\n",
    "    correct = 0\n",
    "    with torch.no_grad():\n",
    "        for X, y in dataloader:\n",
    "            X, y = X.to(device), y.to(device)\n",
    "            \n",
    "            pred = model(X).argmax(dim=1)\n",
    "            correct += (pred == y).sum().item()\n",
    "    \n",
    "    accuracy = correct / len(dataloader.dataset)\n",
    "    print(f\"accuracy {accuracy * 100: .2f}%\")\n"
   ]
  },
  {
   "cell_type": "markdown",
   "metadata": {},
   "source": [
    "Train the model"
   ]
  },
  {
   "cell_type": "code",
   "execution_count": 48,
   "metadata": {},
   "outputs": [
    {
     "name": "stdout",
     "output_type": "stream",
     "text": [
      "Epoch 1\n",
      "accuracy  73.24%\n",
      "Epoch 2\n",
      "accuracy  82.51%\n",
      "Epoch 3\n",
      "accuracy  85.50%\n",
      "Epoch 4\n",
      "accuracy  88.00%\n",
      "Epoch 5\n",
      "accuracy  90.69%\n",
      "Epoch 6\n",
      "accuracy  92.91%\n",
      "Epoch 7\n",
      "accuracy  94.00%\n",
      "Epoch 8\n",
      "accuracy  94.74%\n",
      "Epoch 9\n",
      "accuracy  95.30%\n",
      "Epoch 10\n",
      "accuracy  95.62%\n"
     ]
    }
   ],
   "source": [
    "lr = 0.1\n",
    "epochs = 10\n",
    "\n",
    "model = Net().to(device)\n",
    "optimizer = torch.optim.Adadelta(model.parameters(), lr=lr)\n",
    "loss_fn = nn.CrossEntropyLoss()\n",
    "\n",
    "for epoch in range(1, epochs + 1):\n",
    "    train(train_loader, model, loss_fn, optimizer)\n",
    "    \n",
    "    print(f\"Epoch {epoch}\")\n",
    "    test(test_loader, model)"
   ]
  },
  {
   "cell_type": "markdown",
   "metadata": {},
   "source": [
    "Count the number of parameters"
   ]
  },
  {
   "cell_type": "code",
   "execution_count": 53,
   "metadata": {},
   "outputs": [
    {
     "name": "stdout",
     "output_type": "stream",
     "text": [
      "Number of parameters 111096\n"
     ]
    }
   ],
   "source": [
    "n = sum(p.numel() for p in model.parameters())\n",
    "print(f\"Number of parameters {n}\")"
   ]
  }
 ],
 "metadata": {
  "kernelspec": {
   "display_name": ".venv",
   "language": "python",
   "name": "python3"
  },
  "language_info": {
   "codemirror_mode": {
    "name": "ipython",
    "version": 3
   },
   "file_extension": ".py",
   "mimetype": "text/x-python",
   "name": "python",
   "nbconvert_exporter": "python",
   "pygments_lexer": "ipython3",
   "version": "3.12.5"
  }
 },
 "nbformat": 4,
 "nbformat_minor": 2
}
