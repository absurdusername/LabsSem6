{
 "cells": [
  {
   "cell_type": "code",
   "id": "initial_id",
   "metadata": {
    "collapsed": true,
    "ExecuteTime": {
     "end_time": "2025-01-06T10:30:31.390075Z",
     "start_time": "2025-01-06T10:30:30.588683Z"
    }
   },
   "source": "import torch",
   "outputs": [],
   "execution_count": 3
  },
  {
   "metadata": {},
   "cell_type": "markdown",
   "source": "### Question 1",
   "id": "7f22244c07e09f06"
  },
  {
   "metadata": {
    "ExecuteTime": {
     "end_time": "2025-01-06T10:30:31.401803Z",
     "start_time": "2025-01-06T10:30:31.391004Z"
    }
   },
   "cell_type": "code",
   "source": [
    "T = torch.tensor([[1, 2], [3, 4]])\n",
    "\n",
    "print(T.reshape(2 * 2))\n",
    "print(torch.stack([T, T]))"
   ],
   "id": "254b55c1b19cfe65",
   "outputs": [
    {
     "name": "stdout",
     "output_type": "stream",
     "text": [
      "tensor([1, 2, 3, 4])\n",
      "tensor([[[1, 2],\n",
      "         [3, 4]],\n",
      "\n",
      "        [[1, 2],\n",
      "         [3, 4]]])\n"
     ]
    }
   ],
   "execution_count": 4
  },
  {
   "metadata": {
    "ExecuteTime": {
     "end_time": "2025-01-06T10:31:19.942909Z",
     "start_time": "2025-01-06T10:31:19.937794Z"
    }
   },
   "cell_type": "code",
   "source": [
    "x = torch.zeros(2, 1, 2)\n",
    "\n",
    "print(x)\n",
    "print(x.squeeze()) # remove dimensions with 1 element\n",
    "print(x.unsqueeze(0)) # wrap dimension with parentheses"
   ],
   "id": "bd834f5bb967c544",
   "outputs": [
    {
     "name": "stdout",
     "output_type": "stream",
     "text": [
      "tensor([[[0., 0.]],\n",
      "\n",
      "        [[0., 0.]]])\n",
      "tensor([[0., 0.],\n",
      "        [0., 0.]])\n",
      "tensor([[[[0., 0.]],\n",
      "\n",
      "         [[0., 0.]]]])\n"
     ]
    }
   ],
   "execution_count": 7
  },
  {
   "metadata": {},
   "cell_type": "markdown",
   "source": "### Question 2",
   "id": "beb79643e2e7866e"
  },
  {
   "metadata": {
    "ExecuteTime": {
     "end_time": "2025-01-06T10:33:09.530735Z",
     "start_time": "2025-01-06T10:33:09.523239Z"
    }
   },
   "cell_type": "code",
   "source": "torch.permute(T, (1, 0)) # (tensor, permutation of dimensions)",
   "id": "a9f84f5e35cc19d7",
   "outputs": [
    {
     "data": {
      "text/plain": [
       "tensor([[1, 3],\n",
       "        [2, 4]])"
      ]
     },
     "execution_count": 10,
     "metadata": {},
     "output_type": "execute_result"
    }
   ],
   "execution_count": 10
  },
  {
   "metadata": {},
   "cell_type": "markdown",
   "source": "### Question 3",
   "id": "93eb3a3d8ccae35c"
  },
  {
   "metadata": {},
   "cell_type": "code",
   "outputs": [],
   "execution_count": null,
   "source": "T[0]",
   "id": "267c6322211c5e4f"
  }
 ],
 "metadata": {
  "kernelspec": {
   "display_name": "Python 3",
   "language": "python",
   "name": "python3"
  },
  "language_info": {
   "codemirror_mode": {
    "name": "ipython",
    "version": 2
   },
   "file_extension": ".py",
   "mimetype": "text/x-python",
   "name": "python",
   "nbconvert_exporter": "python",
   "pygments_lexer": "ipython2",
   "version": "2.7.6"
  }
 },
 "nbformat": 4,
 "nbformat_minor": 5
}
