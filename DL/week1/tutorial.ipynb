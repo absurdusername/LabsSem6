{
 "cells": [
  {
   "cell_type": "code",
   "id": "initial_id",
   "metadata": {
    "collapsed": true,
    "ExecuteTime": {
     "end_time": "2025-01-06T09:55:07.935284Z",
     "start_time": "2025-01-06T09:55:07.090263Z"
    }
   },
   "source": [
    "import torch\n",
    "torch.__version__"
   ],
   "outputs": [
    {
     "data": {
      "text/plain": [
       "'2.5.1'"
      ]
     },
     "execution_count": 2,
     "metadata": {},
     "output_type": "execute_result"
    }
   ],
   "execution_count": 2
  },
  {
   "metadata": {
    "ExecuteTime": {
     "end_time": "2025-01-06T09:55:07.940004Z",
     "start_time": "2025-01-06T09:55:07.936181Z"
    }
   },
   "cell_type": "code",
   "source": [
    "scalar = torch.tensor(7)\n",
    "print(scalar)\n",
    "print(scalar.item())"
   ],
   "id": "64b810206afa76e6",
   "outputs": [
    {
     "name": "stdout",
     "output_type": "stream",
     "text": [
      "tensor(7)\n",
      "7\n"
     ]
    }
   ],
   "execution_count": 3
  },
  {
   "metadata": {
    "ExecuteTime": {
     "end_time": "2025-01-06T09:55:07.943648Z",
     "start_time": "2025-01-06T09:55:07.940585Z"
    }
   },
   "cell_type": "code",
   "source": [
    "tensor = torch.tensor((\n",
    "    (7, 8),\n",
    "    (9, 10)\n",
    "))\n",
    "\n",
    "print(tensor)\n",
    "print(tensor.shape)\n",
    "print(tensor.ndim)\n",
    "print(tensor.dtype)"
   ],
   "id": "9b09983afaffc5fd",
   "outputs": [
    {
     "name": "stdout",
     "output_type": "stream",
     "text": [
      "tensor([[ 7,  8],\n",
      "        [ 9, 10]])\n",
      "torch.Size([2, 2])\n",
      "2\n",
      "torch.int64\n"
     ]
    }
   ],
   "execution_count": 4
  },
  {
   "metadata": {
    "ExecuteTime": {
     "end_time": "2025-01-06T09:55:07.953692Z",
     "start_time": "2025-01-06T09:55:07.944714Z"
    }
   },
   "cell_type": "code",
   "source": [
    "random_tensor = torch.rand(size=(3, 4))\n",
    "zeros = torch.zeros(size=(3, 4))\n",
    "ones = torch.ones_like(zeros)"
   ],
   "id": "f4ef5ac30be3e0db",
   "outputs": [],
   "execution_count": 5
  },
  {
   "metadata": {
    "ExecuteTime": {
     "end_time": "2025-01-06T09:55:07.957946Z",
     "start_time": "2025-01-06T09:55:07.954307Z"
    }
   },
   "cell_type": "code",
   "source": [
    "A = torch.tensor((\n",
    "    (1, 2),\n",
    "    (3, 4)\n",
    "))\n",
    "\n",
    "B = torch.tensor((5, 10))\n",
    "\n",
    "A @ B # matrix multiplication"
   ],
   "id": "d0f22edc8e031cd5",
   "outputs": [
    {
     "data": {
      "text/plain": [
       "tensor([25, 55])"
      ]
     },
     "execution_count": 6,
     "metadata": {},
     "output_type": "execute_result"
    }
   ],
   "execution_count": 6
  },
  {
   "metadata": {
    "ExecuteTime": {
     "end_time": "2025-01-06T09:55:07.960057Z",
     "start_time": "2025-01-06T09:55:07.958537Z"
    }
   },
   "cell_type": "code",
   "source": [
    "print(torch.cuda.is_available())\n",
    "print(torch.cuda.device_count())"
   ],
   "id": "da0a1864c5943b95",
   "outputs": [
    {
     "name": "stdout",
     "output_type": "stream",
     "text": [
      "False\n",
      "0\n"
     ]
    }
   ],
   "execution_count": 7
  },
  {
   "metadata": {
    "ExecuteTime": {
     "end_time": "2025-01-06T09:55:07.962256Z",
     "start_time": "2025-01-06T09:55:07.960556Z"
    }
   },
   "cell_type": "code",
   "source": [
    "tensor = torch.tensor([1, 2, 3])\n",
    "print(tensor, tensor.device)\n",
    "\n",
    "# device = 'gpu' if torch.cuda.is_available() else 'cpu'\n",
    "# tensor_on_gpu = tensor.to(device)\n",
    "# tensor_back_on_cpu = tensor_on_gpu.cpu().numpy()"
   ],
   "id": "5c6d12aa3ed78709",
   "outputs": [
    {
     "name": "stdout",
     "output_type": "stream",
     "text": [
      "tensor([1, 2, 3]) cpu\n"
     ]
    }
   ],
   "execution_count": 8
  }
 ],
 "metadata": {
  "kernelspec": {
   "display_name": "Python 3",
   "language": "python",
   "name": "python3"
  },
  "language_info": {
   "codemirror_mode": {
    "name": "ipython",
    "version": 2
   },
   "file_extension": ".py",
   "mimetype": "text/x-python",
   "name": "python",
   "nbconvert_exporter": "python",
   "pygments_lexer": "ipython2",
   "version": "2.7.6"
  }
 },
 "nbformat": 4,
 "nbformat_minor": 5
}
